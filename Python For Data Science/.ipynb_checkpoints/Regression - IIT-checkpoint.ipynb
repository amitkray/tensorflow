{
 "cells": [
  {
   "cell_type": "code",
   "execution_count": 106,
   "id": "native-agent",
   "metadata": {},
   "outputs": [],
   "source": [
    "import pandas as pd\n",
    "import numpy as np\n",
    "import seaborn as sns"
   ]
  },
  {
   "cell_type": "markdown",
   "id": "forbidden-relations",
   "metadata": {},
   "source": [
    "### First we set the dimensions of the plot"
   ]
  },
  {
   "cell_type": "code",
   "execution_count": 107,
   "id": "biological-television",
   "metadata": {},
   "outputs": [],
   "source": [
    "sns.set(rc={'figure.figsize':(11.7,8.27)})"
   ]
  },
  {
   "cell_type": "markdown",
   "id": "divided-burden",
   "metadata": {},
   "source": [
    "##### Import Cars data"
   ]
  },
  {
   "cell_type": "code",
   "execution_count": 108,
   "id": "original-egyptian",
   "metadata": {},
   "outputs": [],
   "source": [
    "cars_data = pd.read_csv('cars_sampled.csv')"
   ]
  },
  {
   "cell_type": "markdown",
   "id": "perceived-automation",
   "metadata": {},
   "source": [
    "#### make a copy of cars_data to keep the main data intact"
   ]
  },
  {
   "cell_type": "code",
   "execution_count": 109,
   "id": "every-solution",
   "metadata": {},
   "outputs": [],
   "source": [
    "cars = cars_data.copy()"
   ]
  },
  {
   "cell_type": "markdown",
   "id": "suitable-techno",
   "metadata": {},
   "source": [
    "#### get the structure of the dataset"
   ]
  },
  {
   "cell_type": "code",
   "execution_count": 110,
   "id": "entire-sarah",
   "metadata": {},
   "outputs": [
    {
     "name": "stdout",
     "output_type": "stream",
     "text": [
      "<class 'pandas.core.frame.DataFrame'>\n",
      "RangeIndex: 50001 entries, 0 to 50000\n",
      "Data columns (total 19 columns):\n",
      " #   Column               Non-Null Count  Dtype \n",
      "---  ------               --------------  ----- \n",
      " 0   dateCrawled          50001 non-null  object\n",
      " 1   name                 50001 non-null  object\n",
      " 2   seller               50001 non-null  object\n",
      " 3   offerType            50001 non-null  object\n",
      " 4   price                50001 non-null  int64 \n",
      " 5   abtest               50001 non-null  object\n",
      " 6   vehicleType          44813 non-null  object\n",
      " 7   yearOfRegistration   50001 non-null  int64 \n",
      " 8   gearbox              47177 non-null  object\n",
      " 9   powerPS              50001 non-null  int64 \n",
      " 10  model                47243 non-null  object\n",
      " 11  kilometer            50001 non-null  int64 \n",
      " 12  monthOfRegistration  50001 non-null  int64 \n",
      " 13  fuelType             45498 non-null  object\n",
      " 14  brand                50001 non-null  object\n",
      " 15  notRepairedDamage    40285 non-null  object\n",
      " 16  dateCreated          50001 non-null  object\n",
      " 17  postalCode           50001 non-null  int64 \n",
      " 18  lastSeen             50001 non-null  object\n",
      "dtypes: int64(6), object(13)\n",
      "memory usage: 7.2+ MB\n"
     ]
    }
   ],
   "source": [
    "cars.info()"
   ]
  },
  {
   "cell_type": "markdown",
   "id": "phantom-proceeding",
   "metadata": {},
   "source": [
    "##### We get the missing values"
   ]
  },
  {
   "cell_type": "markdown",
   "id": "tribal-sympathy",
   "metadata": {},
   "source": [
    "#### Summarize the data. get the minimum, max, mean values. Describe works only for numerical values dtype."
   ]
  },
  {
   "cell_type": "code",
   "execution_count": 111,
   "id": "naked-receiver",
   "metadata": {},
   "outputs": [
    {
     "data": {
      "text/html": [
       "<div>\n",
       "<style scoped>\n",
       "    .dataframe tbody tr th:only-of-type {\n",
       "        vertical-align: middle;\n",
       "    }\n",
       "\n",
       "    .dataframe tbody tr th {\n",
       "        vertical-align: top;\n",
       "    }\n",
       "\n",
       "    .dataframe thead th {\n",
       "        text-align: right;\n",
       "    }\n",
       "</style>\n",
       "<table border=\"1\" class=\"dataframe\">\n",
       "  <thead>\n",
       "    <tr style=\"text-align: right;\">\n",
       "      <th></th>\n",
       "      <th>price</th>\n",
       "      <th>yearOfRegistration</th>\n",
       "      <th>powerPS</th>\n",
       "      <th>kilometer</th>\n",
       "      <th>monthOfRegistration</th>\n",
       "      <th>postalCode</th>\n",
       "    </tr>\n",
       "  </thead>\n",
       "  <tbody>\n",
       "    <tr>\n",
       "      <th>count</th>\n",
       "      <td>50001.000</td>\n",
       "      <td>50001.000</td>\n",
       "      <td>50001.000</td>\n",
       "      <td>50001.000</td>\n",
       "      <td>50001.000</td>\n",
       "      <td>50001.000</td>\n",
       "    </tr>\n",
       "    <tr>\n",
       "      <th>mean</th>\n",
       "      <td>6559.865</td>\n",
       "      <td>2005.544</td>\n",
       "      <td>116.496</td>\n",
       "      <td>125613.688</td>\n",
       "      <td>5.744</td>\n",
       "      <td>50775.217</td>\n",
       "    </tr>\n",
       "    <tr>\n",
       "      <th>std</th>\n",
       "      <td>85818.470</td>\n",
       "      <td>122.992</td>\n",
       "      <td>230.568</td>\n",
       "      <td>40205.234</td>\n",
       "      <td>3.711</td>\n",
       "      <td>25743.702</td>\n",
       "    </tr>\n",
       "    <tr>\n",
       "      <th>min</th>\n",
       "      <td>0.000</td>\n",
       "      <td>1000.000</td>\n",
       "      <td>0.000</td>\n",
       "      <td>5000.000</td>\n",
       "      <td>0.000</td>\n",
       "      <td>1067.000</td>\n",
       "    </tr>\n",
       "    <tr>\n",
       "      <th>25%</th>\n",
       "      <td>1150.000</td>\n",
       "      <td>1999.000</td>\n",
       "      <td>69.000</td>\n",
       "      <td>125000.000</td>\n",
       "      <td>3.000</td>\n",
       "      <td>30559.000</td>\n",
       "    </tr>\n",
       "    <tr>\n",
       "      <th>50%</th>\n",
       "      <td>2950.000</td>\n",
       "      <td>2003.000</td>\n",
       "      <td>105.000</td>\n",
       "      <td>150000.000</td>\n",
       "      <td>6.000</td>\n",
       "      <td>49504.000</td>\n",
       "    </tr>\n",
       "    <tr>\n",
       "      <th>75%</th>\n",
       "      <td>7190.000</td>\n",
       "      <td>2008.000</td>\n",
       "      <td>150.000</td>\n",
       "      <td>150000.000</td>\n",
       "      <td>9.000</td>\n",
       "      <td>71404.000</td>\n",
       "    </tr>\n",
       "    <tr>\n",
       "      <th>max</th>\n",
       "      <td>12345678.000</td>\n",
       "      <td>9999.000</td>\n",
       "      <td>19312.000</td>\n",
       "      <td>150000.000</td>\n",
       "      <td>12.000</td>\n",
       "      <td>99998.000</td>\n",
       "    </tr>\n",
       "  </tbody>\n",
       "</table>\n",
       "</div>"
      ],
      "text/plain": [
       "             price  yearOfRegistration   powerPS  kilometer  \\\n",
       "count    50001.000           50001.000 50001.000  50001.000   \n",
       "mean      6559.865            2005.544   116.496 125613.688   \n",
       "std      85818.470             122.992   230.568  40205.234   \n",
       "min          0.000            1000.000     0.000   5000.000   \n",
       "25%       1150.000            1999.000    69.000 125000.000   \n",
       "50%       2950.000            2003.000   105.000 150000.000   \n",
       "75%       7190.000            2008.000   150.000 150000.000   \n",
       "max   12345678.000            9999.000 19312.000 150000.000   \n",
       "\n",
       "       monthOfRegistration  postalCode  \n",
       "count            50001.000   50001.000  \n",
       "mean                 5.744   50775.217  \n",
       "std                  3.711   25743.702  \n",
       "min                  0.000    1067.000  \n",
       "25%                  3.000   30559.000  \n",
       "50%                  6.000   49504.000  \n",
       "75%                  9.000   71404.000  \n",
       "max                 12.000   99998.000  "
      ]
     },
     "execution_count": 111,
     "metadata": {},
     "output_type": "execute_result"
    }
   ],
   "source": [
    "cars.describe()"
   ]
  },
  {
   "cell_type": "markdown",
   "id": "voluntary-daniel",
   "metadata": {},
   "source": [
    "#### We need to remove scientific notation and round the values to 3 decimal places"
   ]
  },
  {
   "cell_type": "code",
   "execution_count": 112,
   "id": "funky-operation",
   "metadata": {},
   "outputs": [],
   "source": [
    "pd.set_option('display.float_format',lambda x:'%.3f' %x)"
   ]
  },
  {
   "cell_type": "code",
   "execution_count": 113,
   "id": "suspended-reunion",
   "metadata": {},
   "outputs": [
    {
     "data": {
      "text/html": [
       "<div>\n",
       "<style scoped>\n",
       "    .dataframe tbody tr th:only-of-type {\n",
       "        vertical-align: middle;\n",
       "    }\n",
       "\n",
       "    .dataframe tbody tr th {\n",
       "        vertical-align: top;\n",
       "    }\n",
       "\n",
       "    .dataframe thead th {\n",
       "        text-align: right;\n",
       "    }\n",
       "</style>\n",
       "<table border=\"1\" class=\"dataframe\">\n",
       "  <thead>\n",
       "    <tr style=\"text-align: right;\">\n",
       "      <th></th>\n",
       "      <th>price</th>\n",
       "      <th>yearOfRegistration</th>\n",
       "      <th>powerPS</th>\n",
       "      <th>kilometer</th>\n",
       "      <th>monthOfRegistration</th>\n",
       "      <th>postalCode</th>\n",
       "    </tr>\n",
       "  </thead>\n",
       "  <tbody>\n",
       "    <tr>\n",
       "      <th>count</th>\n",
       "      <td>50001.000</td>\n",
       "      <td>50001.000</td>\n",
       "      <td>50001.000</td>\n",
       "      <td>50001.000</td>\n",
       "      <td>50001.000</td>\n",
       "      <td>50001.000</td>\n",
       "    </tr>\n",
       "    <tr>\n",
       "      <th>mean</th>\n",
       "      <td>6559.865</td>\n",
       "      <td>2005.544</td>\n",
       "      <td>116.496</td>\n",
       "      <td>125613.688</td>\n",
       "      <td>5.744</td>\n",
       "      <td>50775.217</td>\n",
       "    </tr>\n",
       "    <tr>\n",
       "      <th>std</th>\n",
       "      <td>85818.470</td>\n",
       "      <td>122.992</td>\n",
       "      <td>230.568</td>\n",
       "      <td>40205.234</td>\n",
       "      <td>3.711</td>\n",
       "      <td>25743.702</td>\n",
       "    </tr>\n",
       "    <tr>\n",
       "      <th>min</th>\n",
       "      <td>0.000</td>\n",
       "      <td>1000.000</td>\n",
       "      <td>0.000</td>\n",
       "      <td>5000.000</td>\n",
       "      <td>0.000</td>\n",
       "      <td>1067.000</td>\n",
       "    </tr>\n",
       "    <tr>\n",
       "      <th>25%</th>\n",
       "      <td>1150.000</td>\n",
       "      <td>1999.000</td>\n",
       "      <td>69.000</td>\n",
       "      <td>125000.000</td>\n",
       "      <td>3.000</td>\n",
       "      <td>30559.000</td>\n",
       "    </tr>\n",
       "    <tr>\n",
       "      <th>50%</th>\n",
       "      <td>2950.000</td>\n",
       "      <td>2003.000</td>\n",
       "      <td>105.000</td>\n",
       "      <td>150000.000</td>\n",
       "      <td>6.000</td>\n",
       "      <td>49504.000</td>\n",
       "    </tr>\n",
       "    <tr>\n",
       "      <th>75%</th>\n",
       "      <td>7190.000</td>\n",
       "      <td>2008.000</td>\n",
       "      <td>150.000</td>\n",
       "      <td>150000.000</td>\n",
       "      <td>9.000</td>\n",
       "      <td>71404.000</td>\n",
       "    </tr>\n",
       "    <tr>\n",
       "      <th>max</th>\n",
       "      <td>12345678.000</td>\n",
       "      <td>9999.000</td>\n",
       "      <td>19312.000</td>\n",
       "      <td>150000.000</td>\n",
       "      <td>12.000</td>\n",
       "      <td>99998.000</td>\n",
       "    </tr>\n",
       "  </tbody>\n",
       "</table>\n",
       "</div>"
      ],
      "text/plain": [
       "             price  yearOfRegistration   powerPS  kilometer  \\\n",
       "count    50001.000           50001.000 50001.000  50001.000   \n",
       "mean      6559.865            2005.544   116.496 125613.688   \n",
       "std      85818.470             122.992   230.568  40205.234   \n",
       "min          0.000            1000.000     0.000   5000.000   \n",
       "25%       1150.000            1999.000    69.000 125000.000   \n",
       "50%       2950.000            2003.000   105.000 150000.000   \n",
       "75%       7190.000            2008.000   150.000 150000.000   \n",
       "max   12345678.000            9999.000 19312.000 150000.000   \n",
       "\n",
       "       monthOfRegistration  postalCode  \n",
       "count            50001.000   50001.000  \n",
       "mean                 5.744   50775.217  \n",
       "std                  3.711   25743.702  \n",
       "min                  0.000    1067.000  \n",
       "25%                  3.000   30559.000  \n",
       "50%                  6.000   49504.000  \n",
       "75%                  9.000   71404.000  \n",
       "max                 12.000   99998.000  "
      ]
     },
     "execution_count": 113,
     "metadata": {},
     "output_type": "execute_result"
    }
   ],
   "source": [
    "cars.describe()"
   ]
  },
  {
   "cell_type": "markdown",
   "id": "convinced-testing",
   "metadata": {},
   "source": [
    "#### To display maximum set of columns"
   ]
  },
  {
   "cell_type": "code",
   "execution_count": 114,
   "id": "rural-durham",
   "metadata": {},
   "outputs": [],
   "source": [
    "pd.set_option('display.max_columns',500)"
   ]
  },
  {
   "cell_type": "markdown",
   "id": "solid-kansas",
   "metadata": {},
   "source": [
    "##### Dropping unwanted columns"
   ]
  },
  {
   "cell_type": "code",
   "execution_count": 115,
   "id": "stretch-hunter",
   "metadata": {},
   "outputs": [],
   "source": [
    "col = ['name','dateCrawled','dateCreated','postalCode','lastSeen']"
   ]
  },
  {
   "cell_type": "code",
   "execution_count": 116,
   "id": "mental-excuse",
   "metadata": {},
   "outputs": [],
   "source": [
    "cars=cars.drop(columns=col,axis=1)"
   ]
  },
  {
   "cell_type": "markdown",
   "id": "cosmetic-plain",
   "metadata": {},
   "source": [
    "#### Removing duplicate records by keeping only first record."
   ]
  },
  {
   "cell_type": "code",
   "execution_count": 117,
   "id": "noticed-highlight",
   "metadata": {},
   "outputs": [],
   "source": [
    "cars.drop_duplicates(keep='first',inplace=True)"
   ]
  },
  {
   "cell_type": "markdown",
   "id": "rotary-cargo",
   "metadata": {},
   "source": [
    "## Data Cleansing"
   ]
  },
  {
   "cell_type": "markdown",
   "id": "specific-pennsylvania",
   "metadata": {},
   "source": [
    "#### Find Nos of missing values in each column"
   ]
  },
  {
   "cell_type": "code",
   "execution_count": 118,
   "id": "likely-sister",
   "metadata": {},
   "outputs": [
    {
     "data": {
      "text/plain": [
       "seller                    0\n",
       "offerType                 0\n",
       "price                     0\n",
       "abtest                    0\n",
       "vehicleType            5152\n",
       "yearOfRegistration        0\n",
       "gearbox                2765\n",
       "powerPS                   0\n",
       "model                  2730\n",
       "kilometer                 0\n",
       "monthOfRegistration       0\n",
       "fuelType               4467\n",
       "brand                     0\n",
       "notRepairedDamage      9640\n",
       "dtype: int64"
      ]
     },
     "execution_count": 118,
     "metadata": {},
     "output_type": "execute_result"
    }
   ],
   "source": [
    "cars.isnull().sum()"
   ]
  },
  {
   "cell_type": "code",
   "execution_count": 119,
   "id": "fantastic-michigan",
   "metadata": {},
   "outputs": [],
   "source": [
    "yearwise_count = cars['yearOfRegistration'].value_counts().sort_index()"
   ]
  },
  {
   "cell_type": "code",
   "execution_count": 120,
   "id": "pleasant-chrome",
   "metadata": {},
   "outputs": [
    {
     "data": {
      "text/plain": [
       "1000     6\n",
       "1255     1\n",
       "1500     2\n",
       "1910    14\n",
       "1928     1\n",
       "        ..\n",
       "7500     1\n",
       "7800     1\n",
       "8500     1\n",
       "8888     2\n",
       "9999     7\n",
       "Name: yearOfRegistration, Length: 97, dtype: int64"
      ]
     },
     "execution_count": 120,
     "metadata": {},
     "output_type": "execute_result"
    }
   ],
   "source": [
    "yearwise_count"
   ]
  },
  {
   "cell_type": "code",
   "execution_count": 121,
   "id": "initial-width",
   "metadata": {},
   "outputs": [
    {
     "data": {
      "text/plain": [
       "38"
      ]
     },
     "execution_count": 121,
     "metadata": {},
     "output_type": "execute_result"
    }
   ],
   "source": [
    "sum(cars['yearOfRegistration']>2018)\n",
    "sum(cars['yearOfRegistration']<1950)"
   ]
  },
  {
   "cell_type": "code",
   "execution_count": 122,
   "id": "metric-marks",
   "metadata": {},
   "outputs": [
    {
     "data": {
      "text/plain": [
       "<AxesSubplot:xlabel='yearOfRegistration', ylabel='price'>"
      ]
     },
     "execution_count": 122,
     "metadata": {},
     "output_type": "execute_result"
    },
    {
     "data": {
      "image/png": "[encoded data removed]",
      "text/plain": [
       "<Figure size 842.4x595.44 with 1 Axes>"
      ]
     },
     "metadata": {},
     "output_type": "display_data"
    }
   ],
   "source": [
    "sns.regplot(x='yearOfRegistration',y='price',scatter=True,fit_reg=False, data=cars)"
   ]
  },
  {
   "cell_type": "markdown",
   "id": "conservative-table",
   "metadata": {},
   "source": [
    "#### Working range - 1950 and 2018"
   ]
  },
  {
   "cell_type": "markdown",
   "id": "determined-detector",
   "metadata": {},
   "source": [
    "#### Variable Price"
   ]
  },
  {
   "cell_type": "code",
   "execution_count": 123,
   "id": "baking-spring",
   "metadata": {},
   "outputs": [],
   "source": [
    "price_count = cars['price'].value_counts().sort_index()"
   ]
  },
  {
   "cell_type": "code",
   "execution_count": 124,
   "id": "independent-provision",
   "metadata": {},
   "outputs": [
    {
     "data": {
      "text/plain": [
       "count      49531.000\n",
       "mean        6567.220\n",
       "std        86222.378\n",
       "min            0.000\n",
       "25%         1150.000\n",
       "50%         2950.000\n",
       "75%         7100.000\n",
       "max     12345678.000\n",
       "Name: price, dtype: float64"
      ]
     },
     "execution_count": 124,
     "metadata": {},
     "output_type": "execute_result"
    }
   ],
   "source": [
    "#sns.displot(x=cars['price'])\n",
    "cars['price'].describe()"
   ]
  },
  {
   "cell_type": "code",
   "execution_count": 125,
   "id": "casual-depression",
   "metadata": {},
   "outputs": [
    {
     "data": {
      "text/plain": [
       "<AxesSubplot:ylabel='price'>"
      ]
     },
     "execution_count": 125,
     "metadata": {},
     "output_type": "execute_result"
    },
    {
     "data": {
      "image/png": "[encoded data removed]",
      "text/plain": [
       "<Figure size 842.4x595.44 with 1 Axes>"
      ]
     },
     "metadata": {},
     "output_type": "display_data"
    }
   ],
   "source": [
    "sns.boxplot(y=cars['price'])"
   ]
  },
  {
   "cell_type": "code",
   "execution_count": 126,
   "id": "communist-carbon",
   "metadata": {},
   "outputs": [
    {
     "data": {
      "text/plain": [
       "1748"
      ]
     },
     "execution_count": 126,
     "metadata": {},
     "output_type": "execute_result"
    }
   ],
   "source": [
    "sum(cars['price']>150000)\n",
    "sum(cars['price']<100)"
   ]
  },
  {
   "cell_type": "markdown",
   "id": "surprised-repository",
   "metadata": {},
   "source": [
    "#### working range for Price 100 and 150000"
   ]
  },
  {
   "cell_type": "markdown",
   "id": "seasonal-vaccine",
   "metadata": {},
   "source": [
    "##### Box Plot tells the outliers which are very very extreme"
   ]
  },
  {
   "cell_type": "markdown",
   "id": "rocky-tractor",
   "metadata": {},
   "source": [
    "### variable powerPS"
   ]
  },
  {
   "cell_type": "code",
   "execution_count": 127,
   "id": "third-interview",
   "metadata": {},
   "outputs": [],
   "source": [
    "power_count = cars['powerPS'].value_counts().sort_index()"
   ]
  },
  {
   "cell_type": "code",
   "execution_count": 128,
   "id": "stock-trade",
   "metadata": {},
   "outputs": [
    {
     "data": {
      "text/plain": [
       "<seaborn.axisgrid.FacetGrid at 0x196cc7cbee0>"
      ]
     },
     "execution_count": 128,
     "metadata": {},
     "output_type": "execute_result"
    },
    {
     "data": {
      "image/png": "[encoded data removed]",
      "text/plain": [
       "<Figure size 360x360 with 1 Axes>"
      ]
     },
     "metadata": {},
     "output_type": "display_data"
    }
   ],
   "source": [
    "sns.displot(cars['powerPS'])"
   ]
  },
  {
   "cell_type": "code",
   "execution_count": 129,
   "id": "shared-somewhere",
   "metadata": {},
   "outputs": [
    {
     "data": {
      "text/plain": [
       "count   49531.000\n",
       "mean      116.501\n",
       "std       231.536\n",
       "min         0.000\n",
       "25%        69.000\n",
       "50%       105.000\n",
       "75%       150.000\n",
       "max     19312.000\n",
       "Name: powerPS, dtype: float64"
      ]
     },
     "execution_count": 129,
     "metadata": {},
     "output_type": "execute_result"
    }
   ],
   "source": [
    "cars['powerPS'].describe()"
   ]
  },
  {
   "cell_type": "code",
   "execution_count": 130,
   "id": "guided-somalia",
   "metadata": {},
   "outputs": [
    {
     "data": {
      "text/plain": [
       "<AxesSubplot:ylabel='powerPS'>"
      ]
     },
     "execution_count": 130,
     "metadata": {},
     "output_type": "execute_result"
    },
    {
     "data": {
      "image/png": "[encoded data removed]",
      "text/plain": [
       "<Figure size 842.4x595.44 with 1 Axes>"
      ]
     },
     "metadata": {},
     "output_type": "display_data"
    }
   ],
   "source": [
    "sns.boxplot(y=cars['powerPS'])"
   ]
  },
  {
   "cell_type": "code",
   "execution_count": 131,
   "id": "different-bishop",
   "metadata": {},
   "outputs": [
    {
     "data": {
      "text/plain": [
       "<AxesSubplot:xlabel='powerPS', ylabel='price'>"
      ]
     },
     "execution_count": 131,
     "metadata": {},
     "output_type": "execute_result"
    },
    {
     "data": {
      "image/png": "[encoded data removed]",
      "text/plain": [
       "<Figure size 842.4x595.44 with 1 Axes>"
      ]
     },
     "metadata": {},
     "output_type": "display_data"
    }
   ],
   "source": [
    "sns.regplot(x='powerPS',y='price',scatter=True,fit_reg=False,data=cars)"
   ]
  },
  {
   "cell_type": "markdown",
   "id": "brutal-runner",
   "metadata": {},
   "source": [
    "### <font color=\"green\">using Boxplot gives the outliers</font>"
   ]
  },
  {
   "cell_type": "code",
   "execution_count": 132,
   "id": "false-conference",
   "metadata": {},
   "outputs": [
    {
     "data": {
      "text/plain": [
       "115"
      ]
     },
     "execution_count": 132,
     "metadata": {},
     "output_type": "execute_result"
    }
   ],
   "source": [
    "sum(cars['powerPS']>500)"
   ]
  },
  {
   "cell_type": "code",
   "execution_count": 133,
   "id": "tracked-place",
   "metadata": {},
   "outputs": [
    {
     "data": {
      "text/plain": [
       "5565"
      ]
     },
     "execution_count": 133,
     "metadata": {},
     "output_type": "execute_result"
    }
   ],
   "source": [
    "sum(cars['powerPS']<10)"
   ]
  },
  {
   "cell_type": "markdown",
   "id": "virgin-joint",
   "metadata": {},
   "source": [
    "##### Working range is 10 and 500"
   ]
  },
  {
   "cell_type": "markdown",
   "id": "defensive-robinson",
   "metadata": {},
   "source": [
    "## Incorporating cleaning ranges"
   ]
  },
  {
   "cell_type": "code",
   "execution_count": 134,
   "id": "ecological-ballet",
   "metadata": {},
   "outputs": [],
   "source": [
    "cars = cars[(cars.yearOfRegistration <= 2018 ) & (cars.yearOfRegistration >= 1950) & (cars.price >=100) & (cars.price <= 150000) & (cars.powerPS>=10) & (cars.powerPS<=500)]"
   ]
  },
  {
   "cell_type": "markdown",
   "id": "hindu-castle",
   "metadata": {},
   "source": [
    "### get age of car by subtracting from 2018 current year"
   ]
  },
  {
   "cell_type": "code",
   "execution_count": 135,
   "id": "removed-sender",
   "metadata": {},
   "outputs": [],
   "source": [
    "#Convert month of Registration to decimal\n",
    "cars['monthOfRegistration']=cars['monthOfRegistration']/12"
   ]
  },
  {
   "cell_type": "code",
   "execution_count": 136,
   "id": "confirmed-albania",
   "metadata": {},
   "outputs": [],
   "source": [
    "cars['age']=(2018 - cars['yearOfRegistration']+cars['monthOfRegistration'])"
   ]
  },
  {
   "cell_type": "code",
   "execution_count": 137,
   "id": "legislative-cocktail",
   "metadata": {},
   "outputs": [],
   "source": [
    "cars['age'] =round(cars['age'],2)"
   ]
  },
  {
   "cell_type": "code",
   "execution_count": 138,
   "id": "italic-arkansas",
   "metadata": {},
   "outputs": [
    {
     "data": {
      "text/plain": [
       "count   42772.000\n",
       "mean       14.873\n",
       "std         7.093\n",
       "min         0.000\n",
       "25%        10.330\n",
       "50%        14.830\n",
       "75%        19.170\n",
       "max        67.750\n",
       "Name: age, dtype: float64"
      ]
     },
     "execution_count": 138,
     "metadata": {},
     "output_type": "execute_result"
    }
   ],
   "source": [
    "cars['age'].describe()"
   ]
  },
  {
   "cell_type": "markdown",
   "id": "italic-barcelona",
   "metadata": {},
   "source": [
    "### As we have already got a new column age, we can drop yearOfRegistration and monthOfRegistration"
   ]
  },
  {
   "cell_type": "code",
   "execution_count": 139,
   "id": "accepted-great",
   "metadata": {},
   "outputs": [],
   "source": [
    "cars=cars.drop(columns =['yearOfRegistration','monthOfRegistration'],axis=1)"
   ]
  },
  {
   "cell_type": "markdown",
   "id": "physical-honolulu",
   "metadata": {},
   "source": [
    "#### Visualising parameter age"
   ]
  },
  {
   "cell_type": "code",
   "execution_count": 140,
   "id": "human-nitrogen",
   "metadata": {},
   "outputs": [
    {
     "data": {
      "text/plain": [
       "<seaborn.axisgrid.FacetGrid at 0x196d44c7850>"
      ]
     },
     "execution_count": 140,
     "metadata": {},
     "output_type": "execute_result"
    },
    {
     "data": {
      "image/png": "[encoded data removed]",
      "text/plain": [
       "<Figure size 360x360 with 1 Axes>"
      ]
     },
     "metadata": {},
     "output_type": "display_data"
    }
   ],
   "source": [
    "sns.displot(cars['age'])"
   ]
  },
  {
   "cell_type": "code",
   "execution_count": 141,
   "id": "closing-abraham",
   "metadata": {},
   "outputs": [
    {
     "data": {
      "text/plain": [
       "<AxesSubplot:ylabel='age'>"
      ]
     },
     "execution_count": 141,
     "metadata": {},
     "output_type": "execute_result"
    },
    {
     "data": {
      "image/png": "[encoded data removed]",
      "text/plain": [
       "<Figure size 842.4x595.44 with 1 Axes>"
      ]
     },
     "metadata": {},
     "output_type": "display_data"
    }
   ],
   "source": [
    "sns.boxplot(y=cars['age'])"
   ]
  },
  {
   "cell_type": "markdown",
   "id": "focused-longitude",
   "metadata": {},
   "source": [
    "### price"
   ]
  },
  {
   "cell_type": "code",
   "execution_count": 142,
   "id": "oriented-columbus",
   "metadata": {},
   "outputs": [
    {
     "data": {
      "text/plain": [
       "<seaborn.axisgrid.FacetGrid at 0x196d464b070>"
      ]
     },
     "execution_count": 142,
     "metadata": {},
     "output_type": "execute_result"
    },
    {
     "data": {
      "image/png": "[encoded data removed]",
      "text/plain": [
       "<Figure size 360x360 with 1 Axes>"
      ]
     },
     "metadata": {},
     "output_type": "display_data"
    }
   ],
   "source": [
    "sns.displot(cars['price'])"
   ]
  },
  {
   "cell_type": "code",
   "execution_count": 143,
   "id": "tired-picking",
   "metadata": {},
   "outputs": [
    {
     "data": {
      "text/plain": [
       "<AxesSubplot:ylabel='price'>"
      ]
     },
     "execution_count": 143,
     "metadata": {},
     "output_type": "execute_result"
    },
    {
     "data": {
      "image/png": "[encoded data removed]",
      "text/plain": [
       "<Figure size 842.4x595.44 with 1 Axes>"
      ]
     },
     "metadata": {},
     "output_type": "display_data"
    }
   ],
   "source": [
    "sns.boxplot(y=cars['price'])"
   ]
  },
  {
   "cell_type": "markdown",
   "id": "genuine-demographic",
   "metadata": {},
   "source": [
    "### PowerPS"
   ]
  },
  {
   "cell_type": "code",
   "execution_count": 144,
   "id": "mysterious-leadership",
   "metadata": {},
   "outputs": [
    {
     "data": {
      "text/plain": [
       "<seaborn.axisgrid.FacetGrid at 0x196d468cdf0>"
      ]
     },
     "execution_count": 144,
     "metadata": {},
     "output_type": "execute_result"
    },
    {
     "data": {
      "image/png": "[encoded data removed]",
      "text/plain": [
       "<Figure size 360x360 with 1 Axes>"
      ]
     },
     "metadata": {},
     "output_type": "display_data"
    }
   ],
   "source": [
    "sns.displot(cars['powerPS'])"
   ]
  },
  {
   "cell_type": "code",
   "execution_count": 145,
   "id": "intimate-heath",
   "metadata": {},
   "outputs": [
    {
     "data": {
      "text/plain": [
       "<AxesSubplot:ylabel='powerPS'>"
      ]
     },
     "execution_count": 145,
     "metadata": {},
     "output_type": "execute_result"
    },
    {
     "data": {
      "image/png": "[encoded data removed]",
      "text/plain": [
       "<Figure size 842.4x595.44 with 1 Axes>"
      ]
     },
     "metadata": {},
     "output_type": "display_data"
    }
   ],
   "source": [
    "sns.boxplot(y=cars['powerPS'])"
   ]
  },
  {
   "cell_type": "markdown",
   "id": "unlimited-damages",
   "metadata": {},
   "source": [
    "### visualising parameter after narrowing working range"
   ]
  },
  {
   "cell_type": "markdown",
   "id": "enabling-preservation",
   "metadata": {},
   "source": [
    "### Age vs Price"
   ]
  },
  {
   "cell_type": "code",
   "execution_count": 146,
   "id": "universal-contrast",
   "metadata": {},
   "outputs": [
    {
     "data": {
      "text/plain": [
       "<AxesSubplot:xlabel='age', ylabel='price'>"
      ]
     },
     "execution_count": 146,
     "metadata": {},
     "output_type": "execute_result"
    },
    {
     "data": {
      "image/png": "[encoded data removed]",
      "text/plain": [
       "<Figure size 842.4x595.44 with 1 Axes>"
      ]
     },
     "metadata": {},
     "output_type": "display_data"
    }
   ],
   "source": [
    "sns.regplot(x='age',y='price',scatter=True,fit_reg=False,data=cars)"
   ]
  },
  {
   "cell_type": "markdown",
   "id": "radio-poster",
   "metadata": {},
   "source": [
    "##### car price higher are newer\n",
    "##### with increase in age, price decreases"
   ]
  },
  {
   "cell_type": "markdown",
   "id": "transsexual-motivation",
   "metadata": {},
   "source": [
    "#### PowerPS vs Price"
   ]
  },
  {
   "cell_type": "code",
   "execution_count": 147,
   "id": "split-phrase",
   "metadata": {},
   "outputs": [
    {
     "data": {
      "text/plain": [
       "<AxesSubplot:xlabel='powerPS', ylabel='price'>"
      ]
     },
     "execution_count": 147,
     "metadata": {},
     "output_type": "execute_result"
    },
    {
     "data": {
      "image/png": "[encoded data removed]",
      "text/plain": [
       "<Figure size 842.4x595.44 with 1 Axes>"
      ]
     },
     "metadata": {},
     "output_type": "display_data"
    }
   ],
   "source": [
    "sns.regplot(x='powerPS',y='price',scatter=True,fit_reg=False,data=cars)"
   ]
  },
  {
   "cell_type": "markdown",
   "id": "auburn-aruba",
   "metadata": {},
   "source": [
    "#### variable Seller"
   ]
  },
  {
   "cell_type": "code",
   "execution_count": 148,
   "id": "large-surveillance",
   "metadata": {},
   "outputs": [
    {
     "data": {
      "text/plain": [
       "private       42771\n",
       "commercial        1\n",
       "Name: seller, dtype: int64"
      ]
     },
     "execution_count": 148,
     "metadata": {},
     "output_type": "execute_result"
    }
   ],
   "source": [
    "cars['seller'].value_counts()"
   ]
  },
  {
   "cell_type": "code",
   "execution_count": 149,
   "id": "invisible-dinner",
   "metadata": {},
   "outputs": [
    {
     "data": {
      "text/html": [
       "<div>\n",
       "<style scoped>\n",
       "    .dataframe tbody tr th:only-of-type {\n",
       "        vertical-align: middle;\n",
       "    }\n",
       "\n",
       "    .dataframe tbody tr th {\n",
       "        vertical-align: top;\n",
       "    }\n",
       "\n",
       "    .dataframe thead th {\n",
       "        text-align: right;\n",
       "    }\n",
       "</style>\n",
       "<table border=\"1\" class=\"dataframe\">\n",
       "  <thead>\n",
       "    <tr style=\"text-align: right;\">\n",
       "      <th>col_0</th>\n",
       "      <th>count</th>\n",
       "    </tr>\n",
       "    <tr>\n",
       "      <th>seller</th>\n",
       "      <th></th>\n",
       "    </tr>\n",
       "  </thead>\n",
       "  <tbody>\n",
       "    <tr>\n",
       "      <th>commercial</th>\n",
       "      <td>0.000</td>\n",
       "    </tr>\n",
       "    <tr>\n",
       "      <th>private</th>\n",
       "      <td>1.000</td>\n",
       "    </tr>\n",
       "  </tbody>\n",
       "</table>\n",
       "</div>"
      ],
      "text/plain": [
       "col_0       count\n",
       "seller           \n",
       "commercial  0.000\n",
       "private     1.000"
      ]
     },
     "execution_count": 149,
     "metadata": {},
     "output_type": "execute_result"
    }
   ],
   "source": [
    "pd.crosstab(cars['seller'], columns='count',normalize=True)"
   ]
  },
  {
   "cell_type": "markdown",
   "id": "global-mitchell",
   "metadata": {},
   "source": [
    "sns.countplot(x='seller',data=cars)"
   ]
  },
  {
   "cell_type": "markdown",
   "id": "formal-charger",
   "metadata": {},
   "source": [
    "### Fewer cars have 'commercial' insignificant"
   ]
  },
  {
   "cell_type": "markdown",
   "id": "naughty-partition",
   "metadata": {},
   "source": [
    "### Variable OfferType"
   ]
  },
  {
   "cell_type": "code",
   "execution_count": 150,
   "id": "criminal-dispatch",
   "metadata": {},
   "outputs": [
    {
     "data": {
      "text/plain": [
       "offer    42772\n",
       "Name: offerType, dtype: int64"
      ]
     },
     "execution_count": 150,
     "metadata": {},
     "output_type": "execute_result"
    }
   ],
   "source": [
    "cars['offerType'].value_counts()"
   ]
  },
  {
   "cell_type": "code",
   "execution_count": 151,
   "id": "incorporated-header",
   "metadata": {},
   "outputs": [
    {
     "data": {
      "text/plain": [
       "<AxesSubplot:xlabel='offerType', ylabel='count'>"
      ]
     },
     "execution_count": 151,
     "metadata": {},
     "output_type": "execute_result"
    },
    {
     "data": {
      "image/png": "[encoded data removed]",
      "text/plain": [
       "<Figure size 842.4x595.44 with 1 Axes>"
      ]
     },
     "metadata": {},
     "output_type": "display_data"
    }
   ],
   "source": [
    "sns.countplot(x='offerType',data=cars)"
   ]
  },
  {
   "cell_type": "markdown",
   "id": "martial-adrian",
   "metadata": {},
   "source": [
    "#### All cars have offer so Insignificant"
   ]
  },
  {
   "cell_type": "markdown",
   "id": "anticipated-absolute",
   "metadata": {},
   "source": [
    "#### variable abttest"
   ]
  },
  {
   "cell_type": "code",
   "execution_count": 152,
   "id": "above-onion",
   "metadata": {},
   "outputs": [
    {
     "data": {
      "text/plain": [
       "test       22128\n",
       "control    20644\n",
       "Name: abtest, dtype: int64"
      ]
     },
     "execution_count": 152,
     "metadata": {},
     "output_type": "execute_result"
    }
   ],
   "source": [
    "cars['abtest'].value_counts()"
   ]
  },
  {
   "cell_type": "code",
   "execution_count": 153,
   "id": "delayed-mediterranean",
   "metadata": {},
   "outputs": [
    {
     "data": {
      "text/plain": [
       "<AxesSubplot:xlabel='abtest', ylabel='count'>"
      ]
     },
     "execution_count": 153,
     "metadata": {},
     "output_type": "execute_result"
    },
    {
     "data": {
      "image/png": "[encoded data removed]",
      "text/plain": [
       "<Figure size 842.4x595.44 with 1 Axes>"
      ]
     },
     "metadata": {},
     "output_type": "display_data"
    }
   ],
   "source": [
    "pd.crosstab(cars['abtest'],columns='count',normalize=True)\n",
    "sns.countplot(x='abtest',data=cars)"
   ]
  },
  {
   "cell_type": "markdown",
   "id": "printable-stroke",
   "metadata": {},
   "source": [
    "### this seems to be equally distributed"
   ]
  },
  {
   "cell_type": "code",
   "execution_count": 154,
   "id": "incomplete-india",
   "metadata": {},
   "outputs": [
    {
     "data": {
      "text/plain": [
       "<AxesSubplot:xlabel='abtest', ylabel='price'>"
      ]
     },
     "execution_count": 154,
     "metadata": {},
     "output_type": "execute_result"
    },
    {
     "data": {
      "image/png": "[encoded data removed]",
      "text/plain": [
       "<Figure size 842.4x595.44 with 1 Axes>"
      ]
     },
     "metadata": {},
     "output_type": "display_data"
    }
   ],
   "source": [
    "sns.boxplot(x='abtest',y='price',data=cars)"
   ]
  },
  {
   "cell_type": "markdown",
   "id": "mobile-paintball",
   "metadata": {},
   "source": [
    "### For every price value there is almost 50 50 distribution"
   ]
  },
  {
   "cell_type": "markdown",
   "id": "pleasant-petroleum",
   "metadata": {},
   "source": [
    "### variable vehicle Type"
   ]
  },
  {
   "cell_type": "code",
   "execution_count": 155,
   "id": "rolled-sculpture",
   "metadata": {},
   "outputs": [
    {
     "data": {
      "text/plain": [
       "limousine        11746\n",
       "small car         9285\n",
       "station wagon     8076\n",
       "bus               3597\n",
       "cabrio            2792\n",
       "coupe             2261\n",
       "suv               1813\n",
       "others             326\n",
       "Name: vehicleType, dtype: int64"
      ]
     },
     "execution_count": 155,
     "metadata": {},
     "output_type": "execute_result"
    }
   ],
   "source": [
    "cars['vehicleType'].value_counts()"
   ]
  },
  {
   "cell_type": "code",
   "execution_count": 156,
   "id": "rational-experience",
   "metadata": {},
   "outputs": [
    {
     "data": {
      "text/html": [
       "<div>\n",
       "<style scoped>\n",
       "    .dataframe tbody tr th:only-of-type {\n",
       "        vertical-align: middle;\n",
       "    }\n",
       "\n",
       "    .dataframe tbody tr th {\n",
       "        vertical-align: top;\n",
       "    }\n",
       "\n",
       "    .dataframe thead th {\n",
       "        text-align: right;\n",
       "    }\n",
       "</style>\n",
       "<table border=\"1\" class=\"dataframe\">\n",
       "  <thead>\n",
       "    <tr style=\"text-align: right;\">\n",
       "      <th>col_0</th>\n",
       "      <th>count</th>\n",
       "    </tr>\n",
       "    <tr>\n",
       "      <th>vehicleType</th>\n",
       "      <th></th>\n",
       "    </tr>\n",
       "  </thead>\n",
       "  <tbody>\n",
       "    <tr>\n",
       "      <th>bus</th>\n",
       "      <td>0.090</td>\n",
       "    </tr>\n",
       "    <tr>\n",
       "      <th>cabrio</th>\n",
       "      <td>0.070</td>\n",
       "    </tr>\n",
       "    <tr>\n",
       "      <th>coupe</th>\n",
       "      <td>0.057</td>\n",
       "    </tr>\n",
       "    <tr>\n",
       "      <th>limousine</th>\n",
       "      <td>0.294</td>\n",
       "    </tr>\n",
       "    <tr>\n",
       "      <th>others</th>\n",
       "      <td>0.008</td>\n",
       "    </tr>\n",
       "    <tr>\n",
       "      <th>small car</th>\n",
       "      <td>0.233</td>\n",
       "    </tr>\n",
       "    <tr>\n",
       "      <th>station wagon</th>\n",
       "      <td>0.202</td>\n",
       "    </tr>\n",
       "    <tr>\n",
       "      <th>suv</th>\n",
       "      <td>0.045</td>\n",
       "    </tr>\n",
       "  </tbody>\n",
       "</table>\n",
       "</div>"
      ],
      "text/plain": [
       "col_0          count\n",
       "vehicleType         \n",
       "bus            0.090\n",
       "cabrio         0.070\n",
       "coupe          0.057\n",
       "limousine      0.294\n",
       "others         0.008\n",
       "small car      0.233\n",
       "station wagon  0.202\n",
       "suv            0.045"
      ]
     },
     "execution_count": 156,
     "metadata": {},
     "output_type": "execute_result"
    }
   ],
   "source": [
    "pd.crosstab(cars['vehicleType'],columns='count',normalize=True)"
   ]
  },
  {
   "cell_type": "code",
   "execution_count": 157,
   "id": "opening-polls",
   "metadata": {},
   "outputs": [
    {
     "data": {
      "text/html": [
       "<div>\n",
       "<style scoped>\n",
       "    .dataframe tbody tr th:only-of-type {\n",
       "        vertical-align: middle;\n",
       "    }\n",
       "\n",
       "    .dataframe tbody tr th {\n",
       "        vertical-align: top;\n",
       "    }\n",
       "\n",
       "    .dataframe thead th {\n",
       "        text-align: right;\n",
       "    }\n",
       "</style>\n",
       "<table border=\"1\" class=\"dataframe\">\n",
       "  <thead>\n",
       "    <tr style=\"text-align: right;\">\n",
       "      <th>col_0</th>\n",
       "      <th>count</th>\n",
       "    </tr>\n",
       "    <tr>\n",
       "      <th>vehicleType</th>\n",
       "      <th></th>\n",
       "    </tr>\n",
       "  </thead>\n",
       "  <tbody>\n",
       "    <tr>\n",
       "      <th>bus</th>\n",
       "      <td>0.090</td>\n",
       "    </tr>\n",
       "    <tr>\n",
       "      <th>cabrio</th>\n",
       "      <td>0.070</td>\n",
       "    </tr>\n",
       "    <tr>\n",
       "      <th>coupe</th>\n",
       "      <td>0.057</td>\n",
       "    </tr>\n",
       "    <tr>\n",
       "      <th>limousine</th>\n",
       "      <td>0.294</td>\n",
       "    </tr>\n",
       "    <tr>\n",
       "      <th>others</th>\n",
       "      <td>0.008</td>\n",
       "    </tr>\n",
       "    <tr>\n",
       "      <th>small car</th>\n",
       "      <td>0.233</td>\n",
       "    </tr>\n",
       "    <tr>\n",
       "      <th>station wagon</th>\n",
       "      <td>0.202</td>\n",
       "    </tr>\n",
       "    <tr>\n",
       "      <th>suv</th>\n",
       "      <td>0.045</td>\n",
       "    </tr>\n",
       "  </tbody>\n",
       "</table>\n",
       "</div>"
      ],
      "text/plain": [
       "col_0          count\n",
       "vehicleType         \n",
       "bus            0.090\n",
       "cabrio         0.070\n",
       "coupe          0.057\n",
       "limousine      0.294\n",
       "others         0.008\n",
       "small car      0.233\n",
       "station wagon  0.202\n",
       "suv            0.045"
      ]
     },
     "execution_count": 157,
     "metadata": {},
     "output_type": "execute_result"
    }
   ],
   "source": [
    "pd.crosstab(cars['vehicleType'],columns='count',normalize=True)"
   ]
  },
  {
   "cell_type": "code",
   "execution_count": 158,
   "id": "gorgeous-kingdom",
   "metadata": {},
   "outputs": [
    {
     "data": {
      "text/plain": [
       "<AxesSubplot:xlabel='vehicleType', ylabel='count'>"
      ]
     },
     "execution_count": 158,
     "metadata": {},
     "output_type": "execute_result"
    },
    {
     "data": {
      "image/png": "[encoded data removed]",
      "text/plain": [
       "<Figure size 842.4x595.44 with 1 Axes>"
      ]
     },
     "metadata": {},
     "output_type": "display_data"
    }
   ],
   "source": [
    "sns.countplot(x='vehicleType',data=cars)"
   ]
  },
  {
   "cell_type": "code",
   "execution_count": 159,
   "id": "peripheral-think",
   "metadata": {},
   "outputs": [
    {
     "data": {
      "text/plain": [
       "<AxesSubplot:xlabel='vehicleType', ylabel='price'>"
      ]
     },
     "execution_count": 159,
     "metadata": {},
     "output_type": "execute_result"
    },
    {
     "data": {
      "image/png": "[encoded data removed]",
      "text/plain": [
       "<Figure size 842.4x595.44 with 1 Axes>"
      ]
     },
     "metadata": {},
     "output_type": "display_data"
    }
   ],
   "source": [
    "sns.boxplot(x='vehicleType',y='price',data=cars)"
   ]
  },
  {
   "cell_type": "markdown",
   "id": "instrumental-patent",
   "metadata": {},
   "source": [
    "#### Vehicletype definitely affects price so we cannot remove it."
   ]
  },
  {
   "cell_type": "markdown",
   "id": "therapeutic-cargo",
   "metadata": {},
   "source": [
    "### Now check for variable Gearbox"
   ]
  },
  {
   "cell_type": "code",
   "execution_count": 160,
   "id": "friendly-spencer",
   "metadata": {},
   "outputs": [
    {
     "data": {
      "text/plain": [
       "manual       32582\n",
       "automatic     9396\n",
       "Name: gearbox, dtype: int64"
      ]
     },
     "execution_count": 160,
     "metadata": {},
     "output_type": "execute_result"
    }
   ],
   "source": [
    "cars['gearbox'].value_counts()"
   ]
  },
  {
   "cell_type": "code",
   "execution_count": 161,
   "id": "mexican-constant",
   "metadata": {},
   "outputs": [
    {
     "data": {
      "text/html": [
       "<div>\n",
       "<style scoped>\n",
       "    .dataframe tbody tr th:only-of-type {\n",
       "        vertical-align: middle;\n",
       "    }\n",
       "\n",
       "    .dataframe tbody tr th {\n",
       "        vertical-align: top;\n",
       "    }\n",
       "\n",
       "    .dataframe thead th {\n",
       "        text-align: right;\n",
       "    }\n",
       "</style>\n",
       "<table border=\"1\" class=\"dataframe\">\n",
       "  <thead>\n",
       "    <tr style=\"text-align: right;\">\n",
       "      <th>col_0</th>\n",
       "      <th>count</th>\n",
       "    </tr>\n",
       "    <tr>\n",
       "      <th>gearbox</th>\n",
       "      <th></th>\n",
       "    </tr>\n",
       "  </thead>\n",
       "  <tbody>\n",
       "    <tr>\n",
       "      <th>automatic</th>\n",
       "      <td>0.224</td>\n",
       "    </tr>\n",
       "    <tr>\n",
       "      <th>manual</th>\n",
       "      <td>0.776</td>\n",
       "    </tr>\n",
       "  </tbody>\n",
       "</table>\n",
       "</div>"
      ],
      "text/plain": [
       "col_0      count\n",
       "gearbox         \n",
       "automatic  0.224\n",
       "manual     0.776"
      ]
     },
     "execution_count": 161,
     "metadata": {},
     "output_type": "execute_result"
    }
   ],
   "source": [
    "pd.crosstab(cars['gearbox'],columns='count',normalize=True)"
   ]
  },
  {
   "cell_type": "code",
   "execution_count": 162,
   "id": "retained-address",
   "metadata": {},
   "outputs": [
    {
     "data": {
      "text/plain": [
       "<AxesSubplot:xlabel='gearbox', ylabel='count'>"
      ]
     },
     "execution_count": 162,
     "metadata": {},
     "output_type": "execute_result"
    },
    {
     "data": {
      "image/png": "[encoded data removed]",
      "text/plain": [
       "<Figure size 842.4x595.44 with 1 Axes>"
      ]
     },
     "metadata": {},
     "output_type": "display_data"
    }
   ],
   "source": [
    "sns.countplot(x='gearbox',data=cars)"
   ]
  },
  {
   "cell_type": "code",
   "execution_count": 163,
   "id": "medical-links",
   "metadata": {},
   "outputs": [
    {
     "data": {
      "text/plain": [
       "<AxesSubplot:xlabel='gearbox', ylabel='price'>"
      ]
     },
     "execution_count": 163,
     "metadata": {},
     "output_type": "execute_result"
    },
    {
     "data": {
      "image/png": "[encoded data removed]",
      "text/plain": [
       "<Figure size 842.4x595.44 with 1 Axes>"
      ]
     },
     "metadata": {},
     "output_type": "display_data"
    }
   ],
   "source": [
    "sns.boxplot(x='gearbox',y='price',data=cars)"
   ]
  },
  {
   "cell_type": "markdown",
   "id": "generic-dublin",
   "metadata": {},
   "source": [
    "#### Gearbox affects price"
   ]
  },
  {
   "cell_type": "markdown",
   "id": "considered-reception",
   "metadata": {},
   "source": [
    "### Variable Model"
   ]
  },
  {
   "cell_type": "code",
   "execution_count": 164,
   "id": "liquid-milwaukee",
   "metadata": {},
   "outputs": [
    {
     "data": {
      "text/plain": [
       "golf          3478\n",
       "others        2900\n",
       "3er           2482\n",
       "polo          1500\n",
       "corsa         1386\n",
       "              ... \n",
       "charade          1\n",
       "b_max            1\n",
       "rangerover       1\n",
       "serie_2          1\n",
       "serie_3          1\n",
       "Name: model, Length: 247, dtype: int64"
      ]
     },
     "execution_count": 164,
     "metadata": {},
     "output_type": "execute_result"
    }
   ],
   "source": [
    "cars['model'].value_counts()"
   ]
  },
  {
   "cell_type": "code",
   "execution_count": 165,
   "id": "educational-posting",
   "metadata": {},
   "outputs": [
    {
     "data": {
      "text/html": [
       "<div>\n",
       "<style scoped>\n",
       "    .dataframe tbody tr th:only-of-type {\n",
       "        vertical-align: middle;\n",
       "    }\n",
       "\n",
       "    .dataframe tbody tr th {\n",
       "        vertical-align: top;\n",
       "    }\n",
       "\n",
       "    .dataframe thead th {\n",
       "        text-align: right;\n",
       "    }\n",
       "</style>\n",
       "<table border=\"1\" class=\"dataframe\">\n",
       "  <thead>\n",
       "    <tr style=\"text-align: right;\">\n",
       "      <th>col_0</th>\n",
       "      <th>count</th>\n",
       "    </tr>\n",
       "    <tr>\n",
       "      <th>model</th>\n",
       "      <th></th>\n",
       "    </tr>\n",
       "  </thead>\n",
       "  <tbody>\n",
       "    <tr>\n",
       "      <th>100</th>\n",
       "      <td>0.001</td>\n",
       "    </tr>\n",
       "    <tr>\n",
       "      <th>145</th>\n",
       "      <td>0.000</td>\n",
       "    </tr>\n",
       "    <tr>\n",
       "      <th>147</th>\n",
       "      <td>0.001</td>\n",
       "    </tr>\n",
       "    <tr>\n",
       "      <th>156</th>\n",
       "      <td>0.002</td>\n",
       "    </tr>\n",
       "    <tr>\n",
       "      <th>159</th>\n",
       "      <td>0.000</td>\n",
       "    </tr>\n",
       "    <tr>\n",
       "      <th>...</th>\n",
       "      <td>...</td>\n",
       "    </tr>\n",
       "    <tr>\n",
       "      <th>yaris</th>\n",
       "      <td>0.003</td>\n",
       "    </tr>\n",
       "    <tr>\n",
       "      <th>yeti</th>\n",
       "      <td>0.001</td>\n",
       "    </tr>\n",
       "    <tr>\n",
       "      <th>ypsilon</th>\n",
       "      <td>0.001</td>\n",
       "    </tr>\n",
       "    <tr>\n",
       "      <th>z_reihe</th>\n",
       "      <td>0.003</td>\n",
       "    </tr>\n",
       "    <tr>\n",
       "      <th>zafira</th>\n",
       "      <td>0.008</td>\n",
       "    </tr>\n",
       "  </tbody>\n",
       "</table>\n",
       "<p>247 rows × 1 columns</p>\n",
       "</div>"
      ],
      "text/plain": [
       "col_0    count\n",
       "model         \n",
       "100      0.001\n",
       "145      0.000\n",
       "147      0.001\n",
       "156      0.002\n",
       "159      0.000\n",
       "...        ...\n",
       "yaris    0.003\n",
       "yeti     0.001\n",
       "ypsilon  0.001\n",
       "z_reihe  0.003\n",
       "zafira   0.008\n",
       "\n",
       "[247 rows x 1 columns]"
      ]
     },
     "execution_count": 165,
     "metadata": {},
     "output_type": "execute_result"
    }
   ],
   "source": [
    "pd.crosstab(cars['model'],columns='count',normalize=True)"
   ]
  },
  {
   "cell_type": "code",
   "execution_count": 166,
   "id": "amino-wichita",
   "metadata": {},
   "outputs": [
    {
     "data": {
      "text/plain": [
       "<AxesSubplot:xlabel='model', ylabel='count'>"
      ]
     },
     "execution_count": 166,
     "metadata": {},
     "output_type": "execute_result"
    },
    {
     "data": {
      "image/png": "[encoded data removed]",
      "text/plain": [
       "<Figure size 842.4x595.44 with 1 Axes>"
      ]
     },
     "metadata": {},
     "output_type": "display_data"
    }
   ],
   "source": [
    "sns.countplot(x='model',data=cars)"
   ]
  },
  {
   "cell_type": "code",
   "execution_count": null,
   "id": "velvet-noise",
   "metadata": {},
   "outputs": [
    {
     "data": {
      "text/plain": [
       "<AxesSubplot:xlabel='model', ylabel='price'>"
      ]
     },
     "execution_count": 167,
     "metadata": {},
     "output_type": "execute_result"
    }
   ],
   "source": [
    "sns.boxplot(x='model',y='price',data=cars)"
   ]
  },
  {
   "cell_type": "markdown",
   "id": "plain-shame",
   "metadata": {},
   "source": [
    "### Cars are distributed over many models. So models is considered for modelling"
   ]
  },
  {
   "cell_type": "markdown",
   "id": "worse-jewel",
   "metadata": {},
   "source": [
    "### Variable Kilometer"
   ]
  },
  {
   "cell_type": "code",
   "execution_count": null,
   "id": "contemporary-poverty",
   "metadata": {},
   "outputs": [],
   "source": [
    "cars['kilometer'].value_counts().sort_index()"
   ]
  },
  {
   "cell_type": "code",
   "execution_count": null,
   "id": "desirable-flush",
   "metadata": {},
   "outputs": [],
   "source": [
    "pd.crosstab(cars['kilometer'],columns='count',normalize=True)"
   ]
  },
  {
   "cell_type": "code",
   "execution_count": null,
   "id": "closing-driver",
   "metadata": {},
   "outputs": [],
   "source": [
    "sns.boxplot(x='kilometer',y='price',data=cars)"
   ]
  },
  {
   "cell_type": "code",
   "execution_count": null,
   "id": "architectural-luxembourg",
   "metadata": {},
   "outputs": [],
   "source": [
    "cars['kilometer'].describe()"
   ]
  },
  {
   "cell_type": "code",
   "execution_count": null,
   "id": "suspended-charter",
   "metadata": {},
   "outputs": [],
   "source": [
    "sns.displot(cars['kilometer'],bins=8,kde=False)"
   ]
  },
  {
   "cell_type": "code",
   "execution_count": null,
   "id": "charged-census",
   "metadata": {},
   "outputs": [],
   "source": [
    "sns.regplot(x='kilometer',y='price',scatter=True,fit_reg=False,data=cars)"
   ]
  },
  {
   "cell_type": "markdown",
   "id": "dense-condition",
   "metadata": {},
   "source": [
    "### This varible is important so considered in modeling"
   ]
  },
  {
   "cell_type": "markdown",
   "id": "communist-enhancement",
   "metadata": {},
   "source": [
    "### Variable Fueltype"
   ]
  },
  {
   "cell_type": "code",
   "execution_count": null,
   "id": "funded-window",
   "metadata": {},
   "outputs": [],
   "source": [
    "cars['fuelType'].value_counts()"
   ]
  },
  {
   "cell_type": "code",
   "execution_count": null,
   "id": "noble-fishing",
   "metadata": {},
   "outputs": [],
   "source": [
    "pd.crosstab(cars['fuelType'],columns='count',normalize=True)"
   ]
  },
  {
   "cell_type": "code",
   "execution_count": null,
   "id": "dedicated-delay",
   "metadata": {},
   "outputs": [],
   "source": [
    "sns.countplot(x='fuelType',data=cars)"
   ]
  },
  {
   "cell_type": "code",
   "execution_count": null,
   "id": "weekly-speech",
   "metadata": {},
   "outputs": [],
   "source": [
    "sns.boxplot(x='fuelType',y='price',data=cars)"
   ]
  },
  {
   "cell_type": "markdown",
   "id": "emotional-fundamental",
   "metadata": {},
   "source": [
    "### Fueltype affects price so considered for modelling"
   ]
  },
  {
   "cell_type": "markdown",
   "id": "dried-cleveland",
   "metadata": {},
   "source": [
    "### variable Brands"
   ]
  },
  {
   "cell_type": "code",
   "execution_count": null,
   "id": "federal-underwear",
   "metadata": {},
   "outputs": [],
   "source": [
    "cars['brand'].value_counts()"
   ]
  },
  {
   "cell_type": "code",
   "execution_count": null,
   "id": "flying-sister",
   "metadata": {},
   "outputs": [],
   "source": [
    "pd.crosstab(cars['brand'],columns='count',normalize=True)"
   ]
  },
  {
   "cell_type": "code",
   "execution_count": null,
   "id": "weird-sussex",
   "metadata": {},
   "outputs": [],
   "source": [
    "sns.countplot(x='brand',data=cars)"
   ]
  },
  {
   "cell_type": "code",
   "execution_count": null,
   "id": "professional-christian",
   "metadata": {},
   "outputs": [],
   "source": [
    "sns.boxplot(x='brand',y='price',data=cars)"
   ]
  },
  {
   "cell_type": "markdown",
   "id": "acting-hotel",
   "metadata": {},
   "source": [
    "### cars are distributed over many brands so considered for modeling"
   ]
  },
  {
   "cell_type": "markdown",
   "id": "specific-murray",
   "metadata": {},
   "source": [
    "### Now Consider variable notRepairedDamage"
   ]
  },
  {
   "cell_type": "code",
   "execution_count": null,
   "id": "hired-compatibility",
   "metadata": {},
   "outputs": [],
   "source": [
    "cars['notRepairedDamage'].value_counts()"
   ]
  },
  {
   "cell_type": "code",
   "execution_count": null,
   "id": "furnished-flashing",
   "metadata": {},
   "outputs": [],
   "source": [
    "pd.crosstab(cars['notRepairedDamage'],columns='count',normalize=True)"
   ]
  },
  {
   "cell_type": "code",
   "execution_count": null,
   "id": "demographic-norfolk",
   "metadata": {},
   "outputs": [],
   "source": [
    "sns.countplot(x='notRepairedDamage',data=cars)"
   ]
  },
  {
   "cell_type": "code",
   "execution_count": null,
   "id": "direct-groove",
   "metadata": {},
   "outputs": [],
   "source": [
    "sns.boxplot(x='notRepairedDamage',y='price',data=cars)"
   ]
  },
  {
   "cell_type": "markdown",
   "id": "large-complex",
   "metadata": {},
   "source": [
    "### As expected Cars that require the damages to be repaired fall under low price ranges"
   ]
  },
  {
   "cell_type": "markdown",
   "id": "hearing-thumbnail",
   "metadata": {},
   "source": [
    "## <font color='green'>Now Remove insignificant variables</font>"
   ]
  },
  {
   "cell_type": "code",
   "execution_count": null,
   "id": "domestic-potato",
   "metadata": {},
   "outputs": [],
   "source": [
    "col=['seller','offerType','abtest']\n",
    "cars=cars.drop(columns=col,axis=1)"
   ]
  },
  {
   "cell_type": "code",
   "execution_count": null,
   "id": "crude-electronics",
   "metadata": {},
   "outputs": [],
   "source": [
    "cars_copy=cars.copy()"
   ]
  },
  {
   "cell_type": "markdown",
   "id": "wicked-building",
   "metadata": {},
   "source": [
    "### Correlation"
   ]
  },
  {
   "cell_type": "code",
   "execution_count": null,
   "id": "behind-country",
   "metadata": {},
   "outputs": [],
   "source": [
    "cars_select1 = cars.select_dtypes(exclude=[object])"
   ]
  },
  {
   "cell_type": "code",
   "execution_count": null,
   "id": "widespread-football",
   "metadata": {},
   "outputs": [],
   "source": [
    "correlation=cars_select1.corr()\n",
    "round(correlation,3)"
   ]
  },
  {
   "cell_type": "code",
   "execution_count": null,
   "id": "included-floating",
   "metadata": {},
   "outputs": [],
   "source": [
    "cars_select1.corr().loc[:,'price'].abs().sort_values(ascending=False)[1:]"
   ]
  },
  {
   "cell_type": "markdown",
   "id": "limiting-vulnerability",
   "metadata": {},
   "source": [
    "## Omitting missing values"
   ]
  },
  {
   "cell_type": "code",
   "execution_count": null,
   "id": "controversial-ensemble",
   "metadata": {},
   "outputs": [],
   "source": [
    "cars_omit = cars.dropna(axis=0)"
   ]
  },
  {
   "cell_type": "markdown",
   "id": "horizontal-causing",
   "metadata": {},
   "source": [
    "### Converting categorical variables to dummy variables"
   ]
  },
  {
   "cell_type": "code",
   "execution_count": null,
   "id": "dominant-president",
   "metadata": {},
   "outputs": [],
   "source": [
    "cars_omit = pd.get_dummies(cars_omit,drop_first=True)"
   ]
  },
  {
   "cell_type": "markdown",
   "id": "boring-macro",
   "metadata": {},
   "source": [
    "## Importing necessary Libraries"
   ]
  },
  {
   "cell_type": "code",
   "execution_count": null,
   "id": "behavioral-testimony",
   "metadata": {},
   "outputs": [],
   "source": [
    "from sklearn.model_selection import train_test_split\n",
    "from sklearn.linear_model import LinearRegression\n",
    "from sklearn.ensemble import RandomForestRegressor\n",
    "from sklearn.metrics import mean_squared_error"
   ]
  },
  {
   "cell_type": "markdown",
   "id": "enclosed-vegetarian",
   "metadata": {},
   "source": [
    "### Modelbuilding with omitted data\n",
    "### Separating input and output features"
   ]
  },
  {
   "cell_type": "code",
   "execution_count": null,
   "id": "following-judgment",
   "metadata": {},
   "outputs": [],
   "source": [
    "x1 = cars_omit.drop(['price'],axis='columns',inplace=False)"
   ]
  },
  {
   "cell_type": "code",
   "execution_count": null,
   "id": "optimum-photographer",
   "metadata": {},
   "outputs": [],
   "source": [
    "y1 = cars_omit['price']"
   ]
  },
  {
   "cell_type": "markdown",
   "id": "wired-injection",
   "metadata": {},
   "source": [
    "### Plotting the variable price"
   ]
  },
  {
   "cell_type": "code",
   "execution_count": null,
   "id": "coated-yellow",
   "metadata": {},
   "outputs": [],
   "source": [
    "price = pd.DataFrame({\"1. Before\":y1,\"2. After\":np.log(y1)})"
   ]
  },
  {
   "cell_type": "code",
   "execution_count": null,
   "id": "pregnant-admission",
   "metadata": {},
   "outputs": [],
   "source": [
    "price.hist()"
   ]
  },
  {
   "cell_type": "markdown",
   "id": "blessed-certification",
   "metadata": {},
   "source": [
    "#### Transforming Price as logarithmic value"
   ]
  },
  {
   "cell_type": "code",
   "execution_count": null,
   "id": "hindu-music",
   "metadata": {},
   "outputs": [],
   "source": [
    "y1 = np.log(y1)"
   ]
  },
  {
   "cell_type": "markdown",
   "id": "quick-eclipse",
   "metadata": {},
   "source": [
    "### natural log of price with input features\n",
    "### splitting data into test and train"
   ]
  },
  {
   "cell_type": "code",
   "execution_count": null,
   "id": "raising-proof",
   "metadata": {},
   "outputs": [],
   "source": [
    "x_train,x_test,y_train,y_test = train_test_split(x1,y1,test_size=0.3,random_state=3)"
   ]
  },
  {
   "cell_type": "code",
   "execution_count": null,
   "id": "accredited-belief",
   "metadata": {},
   "outputs": [],
   "source": [
    "##### random_split = 3 will send same set of data"
   ]
  },
  {
   "cell_type": "code",
   "execution_count": null,
   "id": "orange-appearance",
   "metadata": {},
   "outputs": [],
   "source": [
    "print(x_train.shape,x_test.shape,y_train.shape,y_test.shape)"
   ]
  },
  {
   "cell_type": "markdown",
   "id": "integrated-preview",
   "metadata": {},
   "source": [
    "#### Baseline model for omitted data"
   ]
  },
  {
   "cell_type": "markdown",
   "id": "earlier-construction",
   "metadata": {},
   "source": [
    "#### We are making a base model"
   ]
  },
  {
   "cell_type": "markdown",
   "id": "sixth-hostel",
   "metadata": {},
   "source": [
    "### finding the mean for test_data value"
   ]
  },
  {
   "cell_type": "code",
   "execution_count": null,
   "id": "studied-citizenship",
   "metadata": {},
   "outputs": [],
   "source": [
    "base_pred = np.mean(y_test)"
   ]
  },
  {
   "cell_type": "code",
   "execution_count": null,
   "id": "gross-cambridge",
   "metadata": {},
   "outputs": [],
   "source": [
    "print(base_pred)"
   ]
  },
  {
   "cell_type": "markdown",
   "id": "representative-hands",
   "metadata": {},
   "source": [
    "### Repeating same value till length of same data"
   ]
  },
  {
   "cell_type": "code",
   "execution_count": null,
   "id": "plastic-edward",
   "metadata": {},
   "outputs": [],
   "source": [
    "base_pred = np.repeat(base_pred,len(y_test))"
   ]
  },
  {
   "cell_type": "markdown",
   "id": "diagnostic-mandate",
   "metadata": {},
   "source": [
    "### Finding the RMSE(Root Mean Square Error)"
   ]
  },
  {
   "cell_type": "code",
   "execution_count": null,
   "id": "hungry-ownership",
   "metadata": {},
   "outputs": [],
   "source": [
    "base_root_mean_square_error = np.sqrt(mean_squared_error(y_test,base_pred))\n",
    "print(base_root_mean_square_error)"
   ]
  },
  {
   "cell_type": "markdown",
   "id": "strategic-timeline",
   "metadata": {},
   "source": [
    "#### Linear Regression with omitted data.\n",
    "#### Setting intercept as true"
   ]
  },
  {
   "cell_type": "code",
   "execution_count": null,
   "id": "lightweight-ordinance",
   "metadata": {},
   "outputs": [],
   "source": [
    "lgr = LinearRegression(fit_intercept = True)"
   ]
  },
  {
   "cell_type": "markdown",
   "id": "accessible-sandwich",
   "metadata": {},
   "source": [
    "### Model"
   ]
  },
  {
   "cell_type": "code",
   "execution_count": null,
   "id": "composite-assistant",
   "metadata": {},
   "outputs": [],
   "source": [
    "model_lin1 = lgr.fit(x_train,y_train)"
   ]
  },
  {
   "cell_type": "markdown",
   "id": "extreme-entity",
   "metadata": {},
   "source": [
    "### Predicting model on test set"
   ]
  },
  {
   "cell_type": "code",
   "execution_count": null,
   "id": "quick-syndrome",
   "metadata": {},
   "outputs": [],
   "source": [
    "cars_predictions_lin1 = lgr.predict(x_test)"
   ]
  },
  {
   "cell_type": "markdown",
   "id": "approximate-duplicate",
   "metadata": {},
   "source": [
    "#### Computing MSE and RMSE"
   ]
  },
  {
   "cell_type": "code",
   "execution_count": null,
   "id": "mechanical-tuning",
   "metadata": {},
   "outputs": [],
   "source": [
    "lin_mse1 = mean_squared_error(y_test, cars_predictions_lin1)\n",
    "print(lin_mse1)"
   ]
  },
  {
   "cell_type": "markdown",
   "id": "straight-yesterday",
   "metadata": {},
   "source": [
    "### R Squared Value"
   ]
  },
  {
   "cell_type": "code",
   "execution_count": null,
   "id": "weighted-kazakhstan",
   "metadata": {},
   "outputs": [],
   "source": [
    "r2_lin_test1 = model_lin1.score(x_test,y_test)"
   ]
  },
  {
   "cell_type": "code",
   "execution_count": null,
   "id": "conservative-crystal",
   "metadata": {},
   "outputs": [],
   "source": [
    "r2_lin_train1 = model_lin1.score(x_train,y_train)"
   ]
  },
  {
   "cell_type": "code",
   "execution_count": null,
   "id": "improved-timing",
   "metadata": {},
   "outputs": [],
   "source": [
    "print(r2_lin_test1, r2_lin_train1)"
   ]
  },
  {
   "cell_type": "markdown",
   "id": "foreign-target",
   "metadata": {},
   "source": [
    "### Regression Diagnostics Residual plot analysis"
   ]
  },
  {
   "cell_type": "code",
   "execution_count": null,
   "id": "valuable-harris",
   "metadata": {},
   "outputs": [],
   "source": [
    "residuals1 = y_test - cars_predictions_lin1"
   ]
  },
  {
   "cell_type": "code",
   "execution_count": null,
   "id": "russian-rwanda",
   "metadata": {},
   "outputs": [],
   "source": [
    "sns.regplot(x=cars_predictions_lin1,y=residuals1,scatter=True,fit_reg=False)"
   ]
  },
  {
   "cell_type": "code",
   "execution_count": null,
   "id": "spread-party",
   "metadata": {},
   "outputs": [],
   "source": [
    "residuals1.describe()"
   ]
  },
  {
   "cell_type": "markdown",
   "id": "ambient-family",
   "metadata": {},
   "source": [
    "## Random Forest with omitted data"
   ]
  },
  {
   "cell_type": "markdown",
   "id": "adolescent-observer",
   "metadata": {},
   "source": [
    "#### Model parameter"
   ]
  },
  {
   "cell_type": "code",
   "execution_count": null,
   "id": "norwegian-storage",
   "metadata": {},
   "outputs": [],
   "source": [
    "rf = RandomForestRegressor(n_estimators=100,max_features='auto',max_depth=100,min_samples_split=10, min_samples_leaf=4,random_state=1)"
   ]
  },
  {
   "cell_type": "markdown",
   "id": "white-omega",
   "metadata": {},
   "source": [
    "### Model"
   ]
  },
  {
   "cell_type": "code",
   "execution_count": null,
   "id": "right-powder",
   "metadata": {},
   "outputs": [],
   "source": [
    "model_rf1 = rf.fit(x_train,y_train)"
   ]
  },
  {
   "cell_type": "markdown",
   "id": "egyptian-sample",
   "metadata": {},
   "source": [
    "### Predicting model on test set"
   ]
  },
  {
   "cell_type": "code",
   "execution_count": null,
   "id": "aggregate-valentine",
   "metadata": {},
   "outputs": [],
   "source": [
    "cars_predictions_rf1 = rf.predict(x_test)"
   ]
  },
  {
   "cell_type": "markdown",
   "id": "focal-banner",
   "metadata": {},
   "source": [
    "### Compute MSE and RMSE"
   ]
  },
  {
   "cell_type": "code",
   "execution_count": null,
   "id": "lucky-christianity",
   "metadata": {},
   "outputs": [],
   "source": [
    "rf_mse1 = mean_squared_error(y_test,cars_predictions_rf1)"
   ]
  },
  {
   "cell_type": "code",
   "execution_count": null,
   "id": "common-arena",
   "metadata": {},
   "outputs": [],
   "source": [
    "rf_rmse1 = np.sqrt(rf_mse1)\n",
    "print(rf_rmse1)"
   ]
  },
  {
   "cell_type": "markdown",
   "id": "following-repair",
   "metadata": {},
   "source": [
    "### R squared value"
   ]
  },
  {
   "cell_type": "code",
   "execution_count": null,
   "id": "answering-liberty",
   "metadata": {},
   "outputs": [],
   "source": [
    "r2_rf_test = model_rf1.score(x_test,y_test)"
   ]
  },
  {
   "cell_type": "code",
   "execution_count": null,
   "id": "sublime-tunnel",
   "metadata": {},
   "outputs": [],
   "source": [
    "r2_rf_train = model_rf1.score(x_train,y_train)"
   ]
  },
  {
   "cell_type": "code",
   "execution_count": null,
   "id": "attractive-breakdown",
   "metadata": {},
   "outputs": [],
   "source": [
    "print(r2_rf_test,r2_rf_train)"
   ]
  },
  {
   "cell_type": "markdown",
   "id": "dress-aging",
   "metadata": {},
   "source": [
    "### model building with inputted data"
   ]
  },
  {
   "cell_type": "code",
   "execution_count": null,
   "id": "arctic-philadelphia",
   "metadata": {},
   "outputs": [],
   "source": [
    "cars_imputed = cars.apply(lambda x: x.fillna(x.median()) if x.dtype =='float' else x.fillna(x.value_counts().index[0]))"
   ]
  },
  {
   "cell_type": "code",
   "execution_count": null,
   "id": "thermal-conviction",
   "metadata": {},
   "outputs": [],
   "source": [
    "cars_imputed.isnull().sum()"
   ]
  },
  {
   "cell_type": "markdown",
   "id": "wrapped-relationship",
   "metadata": {},
   "source": [
    "#### Converting categorical variables to dummy variables"
   ]
  },
  {
   "cell_type": "code",
   "execution_count": null,
   "id": "hazardous-silicon",
   "metadata": {},
   "outputs": [],
   "source": [
    "cars_imputed = pd.get_dummies(cars_imputed,drop_first=True)"
   ]
  },
  {
   "cell_type": "markdown",
   "id": "velvet-aviation",
   "metadata": {},
   "source": [
    "#### Model Building"
   ]
  },
  {
   "cell_type": "markdown",
   "id": "several-hardware",
   "metadata": {},
   "source": [
    "#### Separating input and output feature"
   ]
  },
  {
   "cell_type": "code",
   "execution_count": null,
   "id": "hispanic-exploration",
   "metadata": {},
   "outputs": [],
   "source": [
    "x2 = cars_imputed.drop(['price'],axis='columns', inplace=False)"
   ]
  },
  {
   "cell_type": "code",
   "execution_count": null,
   "id": "third-arcade",
   "metadata": {},
   "outputs": [],
   "source": [
    "y2 = cars_imputed['price']"
   ]
  },
  {
   "cell_type": "markdown",
   "id": "political-toilet",
   "metadata": {},
   "source": [
    "#### plotting the variable price"
   ]
  },
  {
   "cell_type": "code",
   "execution_count": null,
   "id": "alpine-cleveland",
   "metadata": {},
   "outputs": [],
   "source": [
    "#Transforming prices as log value\n",
    "prices = pd.DataFrame({\"1. Before\":y2, \"2. After\":np.log(y2)})\n",
    "prices.hist()"
   ]
  },
  {
   "cell_type": "markdown",
   "id": "written-equality",
   "metadata": {},
   "source": [
    "### Splitting data into test and train"
   ]
  },
  {
   "cell_type": "code",
   "execution_count": null,
   "id": "unlikely-policy",
   "metadata": {},
   "outputs": [],
   "source": [
    "x_train1,x_test1,y_train1,y_test1 = train_test_split(x2,y2,test_size=0.3,random_state=3)"
   ]
  },
  {
   "cell_type": "code",
   "execution_count": null,
   "id": "retained-elephant",
   "metadata": {},
   "outputs": [],
   "source": [
    "print(x_train1.shape,x_test1.shape,y_train1.shape,y_test1.shape)"
   ]
  },
  {
   "cell_type": "markdown",
   "id": "south-young",
   "metadata": {},
   "source": [
    "#### find the mean for test data value"
   ]
  },
  {
   "cell_type": "code",
   "execution_count": null,
   "id": "needed-beijing",
   "metadata": {},
   "outputs": [],
   "source": [
    "base_pred =np.mean(y_test1)\n",
    "print(base_pred)"
   ]
  },
  {
   "cell_type": "markdown",
   "id": "owned-algeria",
   "metadata": {},
   "source": [
    "##### Repeating same value till length of test data"
   ]
  },
  {
   "cell_type": "code",
   "execution_count": null,
   "id": "rational-portland",
   "metadata": {},
   "outputs": [],
   "source": [
    "base_pred = np.repeat(base_pred,len(y_test1))"
   ]
  },
  {
   "cell_type": "markdown",
   "id": "pharmaceutical-release",
   "metadata": {},
   "source": [
    "##### finding RMSE"
   ]
  },
  {
   "cell_type": "code",
   "execution_count": null,
   "id": "endangered-difference",
   "metadata": {},
   "outputs": [],
   "source": [
    "base_root_mean_square_error_imputed = np.sqrt(mean_squared_error(y_test1,base_pred))"
   ]
  },
  {
   "cell_type": "code",
   "execution_count": null,
   "id": "floating-senegal",
   "metadata": {},
   "outputs": [],
   "source": [
    "print(base_root_mean_square_error_imputed)"
   ]
  },
  {
   "cell_type": "markdown",
   "id": "exposed-ensemble",
   "metadata": {},
   "source": [
    "#### Linear Regression with imputed data. Setting intercept as true"
   ]
  },
  {
   "cell_type": "code",
   "execution_count": null,
   "id": "suburban-emission",
   "metadata": {},
   "outputs": [],
   "source": [
    "lgr2 = LinearRegression(fit_intercept=True)"
   ]
  },
  {
   "cell_type": "markdown",
   "id": "serious-fortune",
   "metadata": {},
   "source": [
    "#### Model"
   ]
  },
  {
   "cell_type": "code",
   "execution_count": null,
   "id": "whole-challenge",
   "metadata": {},
   "outputs": [],
   "source": [
    "model_lin2 = lgr2.fit(x_train1,y_train1)"
   ]
  },
  {
   "cell_type": "markdown",
   "id": "passing-disclaimer",
   "metadata": {},
   "source": [
    "#### predicting model on test rt"
   ]
  },
  {
   "cell_type": "code",
   "execution_count": null,
   "id": "distant-world",
   "metadata": {},
   "outputs": [],
   "source": [
    "cars_predictions_lin2 = lgr2.predict(x_test1)"
   ]
  },
  {
   "cell_type": "markdown",
   "id": "arabic-membership",
   "metadata": {},
   "source": [
    "#### computing MSE and RMSE"
   ]
  },
  {
   "cell_type": "code",
   "execution_count": null,
   "id": "integral-conversation",
   "metadata": {},
   "outputs": [],
   "source": [
    "lin_mse2 = mean_squared_error(y_test1,cars_predictions_lin2)"
   ]
  },
  {
   "cell_type": "code",
   "execution_count": null,
   "id": "informational-details",
   "metadata": {},
   "outputs": [],
   "source": [
    "lin_rmse2 = np.sqrt(lin_mse2)"
   ]
  },
  {
   "cell_type": "code",
   "execution_count": null,
   "id": "recreational-pollution",
   "metadata": {},
   "outputs": [],
   "source": [
    "print(lin_rmse2)"
   ]
  },
  {
   "cell_type": "markdown",
   "id": "naked-lexington",
   "metadata": {},
   "source": [
    "#### R Squared value"
   ]
  },
  {
   "cell_type": "code",
   "execution_count": null,
   "id": "considerable-requirement",
   "metadata": {},
   "outputs": [],
   "source": [
    "r2_lin_train2 = model_lin2.score(x_test1, y_test1)\n",
    "r2_lin_test2 = model_lin2.score(x_train1, y_train1)"
   ]
  },
  {
   "cell_type": "code",
   "execution_count": null,
   "id": "nuclear-colleague",
   "metadata": {},
   "outputs": [],
   "source": [
    "print(r2_lin_test2,r2_lin_train2)"
   ]
  },
  {
   "cell_type": "markdown",
   "id": "residential-vocabulary",
   "metadata": {},
   "source": [
    "# Random Forest with imputed data"
   ]
  },
  {
   "cell_type": "markdown",
   "id": "pursuant-house",
   "metadata": {},
   "source": [
    "##### Model Parameters"
   ]
  },
  {
   "cell_type": "code",
   "execution_count": null,
   "id": "absolute-stadium",
   "metadata": {},
   "outputs": [],
   "source": [
    "rf2 = RandomForestRegressor(n_estimators=100,max_features='auto',max_depth=100,min_samples_split=10,min_samples_leaf=4,random_state=1)"
   ]
  },
  {
   "cell_type": "markdown",
   "id": "northern-concrete",
   "metadata": {},
   "source": [
    "#### Model"
   ]
  },
  {
   "cell_type": "code",
   "execution_count": null,
   "id": "inclusive-toolbox",
   "metadata": {},
   "outputs": [],
   "source": [
    "model_rf2 = rf2.fit(x_train1,y_train1)"
   ]
  },
  {
   "cell_type": "markdown",
   "id": "sweet-clinic",
   "metadata": {},
   "source": [
    "#### Prediction model on test set "
   ]
  },
  {
   "cell_type": "code",
   "execution_count": null,
   "id": "defined-purchase",
   "metadata": {},
   "outputs": [],
   "source": [
    "cars_prediction_rf2 = rf2.predict(x_test1)"
   ]
  },
  {
   "cell_type": "markdown",
   "id": "crucial-roads",
   "metadata": {},
   "source": [
    "#### Computing MSE and RMSE"
   ]
  },
  {
   "cell_type": "code",
   "execution_count": null,
   "id": "equivalent-chile",
   "metadata": {},
   "outputs": [],
   "source": [
    "rf_mse2 =mean_squared_error(y_test1,cars_prediction_rf2)"
   ]
  },
  {
   "cell_type": "code",
   "execution_count": null,
   "id": "backed-forward",
   "metadata": {},
   "outputs": [],
   "source": [
    "rf_rmse2 = np.sqrt(rf_mse2)\n",
    "print(rf_rmse2)"
   ]
  },
  {
   "cell_type": "code",
   "execution_count": null,
   "id": "destroyed-assist",
   "metadata": {},
   "outputs": [],
   "source": [
    "r2_rf_test2 = model_rf2.score(x_train1,y_train1)"
   ]
  },
  {
   "cell_type": "code",
   "execution_count": null,
   "id": "judicial-demonstration",
   "metadata": {},
   "outputs": [],
   "source": [
    "r2_rf_train2 = model_rf2.score(x_train1,y_train1)"
   ]
  },
  {
   "cell_type": "code",
   "execution_count": null,
   "id": "intelligent-feeling",
   "metadata": {},
   "outputs": [],
   "source": [
    "print(r2_rf_test2,r2_rf_train2)"
   ]
  },
  {
   "cell_type": "code",
   "execution_count": null,
   "id": "oriented-produce",
   "metadata": {},
   "outputs": [],
   "source": []
  }
 ],
 "metadata": {
  "kernelspec": {
   "display_name": "Python 3",
   "language": "python",
   "name": "python3"
  },
  "language_info": {
   "codemirror_mode": {
    "name": "ipython",
    "version": 3
   },
   "file_extension": ".py",
   "mimetype": "text/x-python",
   "name": "python",
   "nbconvert_exporter": "python",
   "pygments_lexer": "ipython3",
   "version": "3.8.8"
  }
 },
 "nbformat": 4,
 "nbformat_minor": 5
}
