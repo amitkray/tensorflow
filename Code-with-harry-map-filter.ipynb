{
 "cells": [
  {
   "cell_type": "code",
   "execution_count": 1,
   "metadata": {},
   "outputs": [
    {
     "name": "stdout",
     "output_type": "stream",
     "text": [
      "48\n"
     ]
    }
   ],
   "source": [
    "#--------------------------MAP------------------------------\n",
    "# numbers = [\"3\", \"34\", \"64\"]\n",
    "# numbers = list(map(int, numbers))\n",
    "\n",
    "# for i in range(len(numbers)):\n",
    "#     numbers[i] = int(numbers[i])\n",
    "\n",
    "# numbers[2] = numbers[2] + 1\n",
    "# print(numbers[2])\n",
    "\n",
    "# def sq(a):\n",
    "#     return a*a\n",
    "#\n",
    "# num = [2,3,5,6,76,3,3,2]\n",
    "# square = list(map(sq, num))\n",
    "# print(square)\n",
    "# num = [2,3,5,6,76,3,3,2]\n",
    "# square = list(map(lambda x: x*x, num))\n",
    "# print(square)\n",
    "\n",
    "\n",
    "# def square(a):\n",
    "#     return a*a\n",
    "#\n",
    "# def cube(a):\n",
    "#     return a*a*a\n",
    "\n",
    "# func = [square, cube]\n",
    "# num = [2,3,5,6,76,3,3,2]\n",
    "# for i in range(5):\n",
    "#     val = list(map(lambda x:x(i), func))\n",
    "#     print(val)\n",
    "\n",
    "#--------------------------FILTER------------------------------\n",
    "# list_1 = [1,2,3,4,5,6,7,8,9]\n",
    "#\n",
    "# def is_greater_5(num):\n",
    "#     return num>5\n",
    "#\n",
    "# gr_than_5 = list(filter(is_greater_5, list_1))\n",
    "# print(gr_than_5)\n",
    "#--------------------------REDUCE------------------------------\n",
    "from functools import reduce\n",
    "\n",
    "list1 = [1,2,3,4,2]\n",
    "num = reduce(lambda x,y:x*y, list1)\n",
    "# num = 0\n",
    "# for i in list1:\n",
    "#     num = num + i\n",
    "print(num)\n",
    "\n",
    "  \n"
   ]
  },
  {
   "cell_type": "code",
   "execution_count": null,
   "metadata": {},
   "outputs": [],
   "source": []
  }
 ],
 "metadata": {
  "kernelspec": {
   "display_name": "Python 3",
   "language": "python",
   "name": "python3"
  },
  "language_info": {
   "codemirror_mode": {
    "name": "ipython",
    "version": 3
   },
   "file_extension": ".py",
   "mimetype": "text/x-python",
   "name": "python",
   "nbconvert_exporter": "python",
   "pygments_lexer": "ipython3",
   "version": "3.8.5"
  }
 },
 "nbformat": 4,
 "nbformat_minor": 4
}
